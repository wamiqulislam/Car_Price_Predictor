{
  "nbformat": 4,
  "nbformat_minor": 0,
  "metadata": {
    "colab": {
      "provenance": [],
      "authorship_tag": "ABX9TyOPCM1qFs5Nhwn0J/VMXlqF",
      "include_colab_link": true
    },
    "kernelspec": {
      "name": "python3",
      "display_name": "Python 3"
    },
    "language_info": {
      "name": "python"
    }
  },
  "cells": [
    {
      "cell_type": "markdown",
      "metadata": {
        "id": "view-in-github",
        "colab_type": "text"
      },
      "source": [
        "<a href=\"https://colab.research.google.com/github/wamiqulislam/Car_Price_Predictor/blob/main/Single_Car_Price_Predictor.ipynb\" target=\"_parent\"><img src=\"https://colab.research.google.com/assets/colab-badge.svg\" alt=\"Open In Colab\"/></a>"
      ]
    },
    {
      "cell_type": "markdown",
      "source": [
        "#Imports"
      ],
      "metadata": {
        "id": "nHybo_JxM7W-"
      }
    },
    {
      "cell_type": "code",
      "execution_count": 31,
      "metadata": {
        "id": "ZxWsUuefJw0Z"
      },
      "outputs": [],
      "source": [
        "import requests, re, ast\n",
        "import pandas as pd, numpy as np\n",
        "from bs4 import BeautifulSoup\n",
        "from sklearn.preprocessing import MultiLabelBinarizer\n",
        "from sklearn.compose import ColumnTransformer\n",
        "from sklearn.preprocessing import StandardScaler, OneHotEncoder\n",
        "from sklearn.pipeline import Pipeline\n",
        "from sklearn.ensemble import RandomForestRegressor\n",
        "import joblib\n",
        "import json\n"
      ]
    },
    {
      "cell_type": "markdown",
      "source": [
        "#Input"
      ],
      "metadata": {
        "id": "oGTgUCxbh5Nq"
      }
    },
    {
      "cell_type": "code",
      "source": [
        "#==========================Make Changes Here====================================\n",
        "\n",
        "# Paste the url of the ad\n",
        "url = \"https://www.pakwheels.com/used-cars/toyota-corolla-1997-for-sale-in-islamabad-10429613\"\n",
        "\n",
        "# paste the model and mlb path for either the specific car or all cars\n",
        "model = joblib.load(\"Toyota_Corolla_model.pkl\")\n",
        "mlb = joblib.load(\"Toyota_Corolla_mlb.pkl\")\n",
        "\n",
        "#==============================================================================="
      ],
      "metadata": {
        "id": "agGBF269NAAM"
      },
      "execution_count": 32,
      "outputs": []
    },
    {
      "cell_type": "markdown",
      "source": [
        "#Scrapping data"
      ],
      "metadata": {
        "id": "NHTl3O7TOMZW"
      }
    },
    {
      "cell_type": "code",
      "source": [
        "def scrape_ad(url):\n",
        "    \"\"\"Scrape a single ad page and return structured car data.\"\"\"\n",
        "    try:\n",
        "        r = requests.get(url, headers={\"User-Agent\": \"Mozilla/5.0\"}, timeout=10)\n",
        "        r.raise_for_status()\n",
        "    except Exception as e:\n",
        "        print(f\"❌ Failed to fetch {url}: {e}\")\n",
        "        return None\n",
        "\n",
        "    soup = BeautifulSoup(r.text, \"html.parser\")\n",
        "\n",
        "\n",
        "    # load data from JSON-LD block\n",
        "    scripts = soup.find_all(\"script\", type=\"application/ld+json\")\n",
        "    data = None\n",
        "    for script in scripts:\n",
        "        try:\n",
        "            parsed = json.loads(script.string.strip())\n",
        "            if isinstance(parsed, dict) and (parsed.get(\"@type\") == \"Product\" or \"Product\" in parsed.get(\"@type\", [])):\n",
        "                offers = parsed.get(\"offers\", {})\n",
        "                if isinstance(offers, dict) and offers.get(\"url\") == url:  # match the correct ad\n",
        "                    data = parsed\n",
        "                    break\n",
        "        except Exception:\n",
        "            continue\n",
        "\n",
        "    if not data:\n",
        "        print(f\"⚠️ JSON-LD not found on {url}\")\n",
        "        return None\n",
        "\n",
        "    # Handle brand safely\n",
        "    brand = data.get(\"brand\")\n",
        "    if isinstance(brand, dict):\n",
        "        brand_name = brand.get(\"name\", \"\")\n",
        "    elif isinstance(brand, str):\n",
        "        brand_name = brand\n",
        "    else:\n",
        "        brand_name = \"\"\n",
        "\n",
        "    #save all the data into car_data\n",
        "    car_data = {\n",
        "        \"Name\": data.get(\"name\", \"\"),\n",
        "        \"City\": data.get(\"name\", \"\").split(\"for sale in\")[-1].strip() if \"for sale in\" in data.get(\"name\", \"\") else \"\",\n",
        "        \"Brand\": brand_name,\n",
        "        \"Model\": data.get(\"model\", \"\"),\n",
        "        \"Year\": data.get(\"modelDate\", \"\"),\n",
        "        \"Mileage\": data.get(\"mileageFromOdometer\", \"\"),\n",
        "        \"Fuel\": data.get(\"fuelType\", \"\"),\n",
        "        \"Transmission\": data.get(\"vehicleTransmission\", \"\"),\n",
        "        \"Engine Capacity\": data.get(\"vehicleEngine\", {}).get(\"engineDisplacement\", \"\"),\n",
        "        \"Color\": data.get(\"color\", \"\"),\n",
        "        \"Body Type\": data.get(\"bodyType\", \"\"),\n",
        "        \"Price\": f\"{data['offers'].get('price', '')} {data['offers'].get('priceCurrency', '')}\" if \"offers\" in data else \"\",\n",
        "        \"Ad URL\": data.get(\"offers\", {}).get(\"url\", \"\"),\n",
        "        \"Description\": data.get(\"description\", \"\")\n",
        "    }\n",
        "\n",
        "\n",
        "    # saving any extra specs\n",
        "    specs_ul = soup.find(\"ul\", id=\"scroll_car_detail\")\n",
        "    if specs_ul:\n",
        "        spec_list = specs_ul.find_all(\"li\")\n",
        "        for i in range(0, len(spec_list), 2):\n",
        "            key = spec_list[i].get_text(strip=True)\n",
        "            val = spec_list[i + 1].get_text(strip=True)\n",
        "            car_data[key] = val\n",
        "\n",
        "    # saving the Features in a list\n",
        "    features = soup.find(\"ul\", class_=\"car-feature-list\")\n",
        "    if features:\n",
        "        car_data[\"Features\"] = [li.get_text(strip=True) for li in features.find_all(\"li\")]\n",
        "    else:\n",
        "        car_data[\"Features\"] = []\n",
        "\n",
        "    # saving the seller comments\n",
        "    comments_heading = soup.find(\"h2\", id=\"scroll_seller_comments\")\n",
        "    if comments_heading:\n",
        "        comments_div = comments_heading.find_next(\"div\")\n",
        "        car_data[\"Seller Comments\"] = comments_div.get_text(separator=\" \", strip=True)\n",
        "\n",
        "    return car_data\n",
        "\n",
        "\n",
        "car_data = scrape_ad(url)"
      ],
      "metadata": {
        "id": "8g2d9g9bON3N"
      },
      "execution_count": 33,
      "outputs": []
    },
    {
      "cell_type": "markdown",
      "source": [
        "#Pre Processing"
      ],
      "metadata": {
        "id": "6jpYs6L5OakV"
      }
    },
    {
      "cell_type": "code",
      "source": [
        "# Clean mileage (e.g. \"52,000 km\" -> 52000)\n",
        "def clean_mileage(x):\n",
        "    if pd.isna(x): return np.nan\n",
        "    return int(re.sub(r\"[^\\d]\", \"\", str(x))) if re.search(r\"\\d\", str(x)) else np.nan\n",
        "\n",
        "# Clean engine_cc (e.g. \"796 cc\" -> 796)\n",
        "def clean_engine(x):\n",
        "    if pd.isna(x): return np.nan\n",
        "    return int(re.sub(r\"[^\\d]\", \"\", str(x))) if re.search(r\"\\d\", str(x)) else np.nan\n",
        "\n",
        "# Clean price (e.g. \"1,395,000 PKR\" -> 1395000)\n",
        "def clean_price(x):\n",
        "    if pd.isna(x): return np.nan\n",
        "    return int(re.sub(r\"[^\\d]\", \"\", str(x))) if re.search(r\"\\d\", str(x)) else np.nan\n",
        "\n",
        "\n",
        "# Standardize colors\n",
        "def clean_color(x):\n",
        "    if pd.isna(x): return \"Unknown\"\n",
        "    x = str(x).lower()\n",
        "    if \"silver\" in x: return \"Silver\"\n",
        "    if \"white\" in x: return \"White\"\n",
        "    if \"blue\" in x: return \"Blue\"\n",
        "    if \"grey\" in x or \"gray\" in x: return \"Grey\"\n",
        "    if \"black\" in x: return \"Black\"\n",
        "    return x.title()"
      ],
      "metadata": {
        "id": "Ce5q6-K2OkqN"
      },
      "execution_count": 34,
      "outputs": []
    },
    {
      "cell_type": "code",
      "source": [
        "# Clean mileage, engine, color etc\n",
        "car_data[\"Mileage\"] = clean_mileage(car_data.get(\"Mileage\"))\n",
        "car_data[\"Engine Capacity\"] = clean_engine(car_data.get(\"Engine Capacity\"))\n",
        "car_data[\"Color\"] = clean_color(car_data.get(\"Color\"))\n",
        "car_data[\"CarAge\"] = 2025 - int(car_data.get(\"Year\", 2025))\n",
        "car_data[\"MileagePerYear\"] = car_data[\"Mileage\"] / max(car_data[\"CarAge\"], 1)\n",
        "\n",
        "# Features → binary\n",
        "features_list = car_data.get(\"Features\", [])\n",
        "features_binary = mlb.transform([features_list])\n",
        "features_df = pd.DataFrame(features_binary, columns=mlb.classes_)\n"
      ],
      "metadata": {
        "id": "-ez-Ydj9OeUN"
      },
      "execution_count": 35,
      "outputs": []
    },
    {
      "cell_type": "code",
      "source": [
        "X_input = pd.DataFrame([{\n",
        "    \"City\": car_data.get(\"City\",\"Unknown\"),\n",
        "    \"Mileage\": car_data[\"Mileage\"],\n",
        "    \"Fuel\": car_data.get(\"Fuel\",\"Unknown\"),\n",
        "    \"Transmission\": car_data.get(\"Transmission\",\"Unknown\"),\n",
        "    \"Engine Capacity\": car_data[\"Engine Capacity\"],\n",
        "    \"Color\": car_data.get(\"Color\",\"Unknown\"),\n",
        "    \"CarAge\": car_data[\"CarAge\"],\n",
        "    \"Registered In\": car_data.get(\"Registered In\", \"Unknown\"),\n",
        "    \"Assembly\": car_data.get(\"Assembly\", \"Unknown\")\n",
        "}])\n",
        "\n",
        "# Add binary features\n",
        "X_input = pd.concat([X_input, features_df], axis=1)\n"
      ],
      "metadata": {
        "id": "2N_9oVpnOq5F"
      },
      "execution_count": 36,
      "outputs": []
    },
    {
      "cell_type": "markdown",
      "source": [
        "#Prediction"
      ],
      "metadata": {
        "id": "nlxtAQ1vOsml"
      }
    },
    {
      "cell_type": "code",
      "source": [
        "predicted_price = model.predict(X_input)[0]\n",
        "print(f\"Predicted Price: {predicted_price:,.0f} PKR\")\n",
        "\n",
        "if car_data.get(\"Price\"):\n",
        "    actual_price = clean_price(car_data[\"Price\"])\n",
        "    error = predicted_price - actual_price\n",
        "    pct_error = error / actual_price * 100\n",
        "    print(f\"Actual Price: {actual_price:,.0f} PKR\")\n",
        "    print(f\"The actual price is {-error:,.0f} PKR ({-pct_error:.2f}%) different than predicted price\")\n"
      ],
      "metadata": {
        "id": "RLF-59Q5OtjV",
        "colab": {
          "base_uri": "https://localhost:8080/"
        },
        "outputId": "03d05b88-52ec-4f5a-8e5f-8705f3677920"
      },
      "execution_count": 37,
      "outputs": [
        {
          "output_type": "stream",
          "name": "stdout",
          "text": [
            "Predicted Price: 1,852,597 PKR\n",
            "Actual Price: 1,320,000 PKR\n",
            "The actual price is -532,597 PKR (-40.35%) different than predicted price\n"
          ]
        }
      ]
    }
  ]
}